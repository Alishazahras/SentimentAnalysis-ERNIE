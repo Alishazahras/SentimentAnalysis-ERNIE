{
  "nbformat": 4,
  "nbformat_minor": 0,
  "metadata": {
    "colab": {
      "provenance": [],
      "gpuType": "T4"
    },
    "kernelspec": {
      "name": "python3",
      "display_name": "Python 3"
    },
    "language_info": {
      "name": "python"
    },
    "accelerator": "GPU"
  },
  "cells": [
    {
      "cell_type": "markdown",
      "source": [
        "### Nama : Alisha Zahra Saadiya\n",
        "### NIM : 2501971742\n",
        "\n",
        "Case Number = 4 + 2 = 6\n",
        "\n",
        "Case 2 : ERNIE"
      ],
      "metadata": {
        "id": "Njcf8lN_QLA2"
      }
    },
    {
      "cell_type": "code",
      "source": [
        "!pip install tensorflow\n",
        "!pip install nltk\n",
        "!pip install transformers\n",
        "!pip install contractions\n",
        "!pip install tensorflow-addons"
      ],
      "metadata": {
        "colab": {
          "base_uri": "https://localhost:8080/"
        },
        "id": "ktV2kCJ7rDP9",
        "outputId": "1d32b00a-6f71-489d-a6a7-a2fa0c008a3f"
      },
      "execution_count": null,
      "outputs": [
        {
          "output_type": "stream",
          "name": "stdout",
          "text": [
            "Requirement already satisfied: tensorflow in /usr/local/lib/python3.10/dist-packages (2.15.0)\n",
            "Requirement already satisfied: absl-py>=1.0.0 in /usr/local/lib/python3.10/dist-packages (from tensorflow) (1.4.0)\n",
            "Requirement already satisfied: astunparse>=1.6.0 in /usr/local/lib/python3.10/dist-packages (from tensorflow) (1.6.3)\n",
            "Requirement already satisfied: flatbuffers>=23.5.26 in /usr/local/lib/python3.10/dist-packages (from tensorflow) (23.5.26)\n",
            "Requirement already satisfied: gast!=0.5.0,!=0.5.1,!=0.5.2,>=0.2.1 in /usr/local/lib/python3.10/dist-packages (from tensorflow) (0.5.4)\n",
            "Requirement already satisfied: google-pasta>=0.1.1 in /usr/local/lib/python3.10/dist-packages (from tensorflow) (0.2.0)\n",
            "Requirement already satisfied: h5py>=2.9.0 in /usr/local/lib/python3.10/dist-packages (from tensorflow) (3.9.0)\n",
            "Requirement already satisfied: libclang>=13.0.0 in /usr/local/lib/python3.10/dist-packages (from tensorflow) (16.0.6)\n",
            "Requirement already satisfied: ml-dtypes~=0.2.0 in /usr/local/lib/python3.10/dist-packages (from tensorflow) (0.2.0)\n",
            "Requirement already satisfied: numpy<2.0.0,>=1.23.5 in /usr/local/lib/python3.10/dist-packages (from tensorflow) (1.23.5)\n",
            "Requirement already satisfied: opt-einsum>=2.3.2 in /usr/local/lib/python3.10/dist-packages (from tensorflow) (3.3.0)\n",
            "Requirement already satisfied: packaging in /usr/local/lib/python3.10/dist-packages (from tensorflow) (23.2)\n",
            "Requirement already satisfied: protobuf!=4.21.0,!=4.21.1,!=4.21.2,!=4.21.3,!=4.21.4,!=4.21.5,<5.0.0dev,>=3.20.3 in /usr/local/lib/python3.10/dist-packages (from tensorflow) (3.20.3)\n",
            "Requirement already satisfied: setuptools in /usr/local/lib/python3.10/dist-packages (from tensorflow) (67.7.2)\n",
            "Requirement already satisfied: six>=1.12.0 in /usr/local/lib/python3.10/dist-packages (from tensorflow) (1.16.0)\n",
            "Requirement already satisfied: termcolor>=1.1.0 in /usr/local/lib/python3.10/dist-packages (from tensorflow) (2.4.0)\n",
            "Requirement already satisfied: typing-extensions>=3.6.6 in /usr/local/lib/python3.10/dist-packages (from tensorflow) (4.5.0)\n",
            "Requirement already satisfied: wrapt<1.15,>=1.11.0 in /usr/local/lib/python3.10/dist-packages (from tensorflow) (1.14.1)\n",
            "Requirement already satisfied: tensorflow-io-gcs-filesystem>=0.23.1 in /usr/local/lib/python3.10/dist-packages (from tensorflow) (0.35.0)\n",
            "Requirement already satisfied: grpcio<2.0,>=1.24.3 in /usr/local/lib/python3.10/dist-packages (from tensorflow) (1.60.0)\n",
            "Requirement already satisfied: tensorboard<2.16,>=2.15 in /usr/local/lib/python3.10/dist-packages (from tensorflow) (2.15.1)\n",
            "Requirement already satisfied: tensorflow-estimator<2.16,>=2.15.0 in /usr/local/lib/python3.10/dist-packages (from tensorflow) (2.15.0)\n",
            "Requirement already satisfied: keras<2.16,>=2.15.0 in /usr/local/lib/python3.10/dist-packages (from tensorflow) (2.15.0)\n",
            "Requirement already satisfied: wheel<1.0,>=0.23.0 in /usr/local/lib/python3.10/dist-packages (from astunparse>=1.6.0->tensorflow) (0.42.0)\n",
            "Requirement already satisfied: google-auth<3,>=1.6.3 in /usr/local/lib/python3.10/dist-packages (from tensorboard<2.16,>=2.15->tensorflow) (2.17.3)\n",
            "Requirement already satisfied: google-auth-oauthlib<2,>=0.5 in /usr/local/lib/python3.10/dist-packages (from tensorboard<2.16,>=2.15->tensorflow) (1.2.0)\n",
            "Requirement already satisfied: markdown>=2.6.8 in /usr/local/lib/python3.10/dist-packages (from tensorboard<2.16,>=2.15->tensorflow) (3.5.2)\n",
            "Requirement already satisfied: requests<3,>=2.21.0 in /usr/local/lib/python3.10/dist-packages (from tensorboard<2.16,>=2.15->tensorflow) (2.31.0)\n",
            "Requirement already satisfied: tensorboard-data-server<0.8.0,>=0.7.0 in /usr/local/lib/python3.10/dist-packages (from tensorboard<2.16,>=2.15->tensorflow) (0.7.2)\n",
            "Requirement already satisfied: werkzeug>=1.0.1 in /usr/local/lib/python3.10/dist-packages (from tensorboard<2.16,>=2.15->tensorflow) (3.0.1)\n",
            "Requirement already satisfied: cachetools<6.0,>=2.0.0 in /usr/local/lib/python3.10/dist-packages (from google-auth<3,>=1.6.3->tensorboard<2.16,>=2.15->tensorflow) (5.3.2)\n",
            "Requirement already satisfied: pyasn1-modules>=0.2.1 in /usr/local/lib/python3.10/dist-packages (from google-auth<3,>=1.6.3->tensorboard<2.16,>=2.15->tensorflow) (0.3.0)\n",
            "Requirement already satisfied: rsa<5,>=3.1.4 in /usr/local/lib/python3.10/dist-packages (from google-auth<3,>=1.6.3->tensorboard<2.16,>=2.15->tensorflow) (4.9)\n",
            "Requirement already satisfied: requests-oauthlib>=0.7.0 in /usr/local/lib/python3.10/dist-packages (from google-auth-oauthlib<2,>=0.5->tensorboard<2.16,>=2.15->tensorflow) (1.3.1)\n",
            "Requirement already satisfied: charset-normalizer<4,>=2 in /usr/local/lib/python3.10/dist-packages (from requests<3,>=2.21.0->tensorboard<2.16,>=2.15->tensorflow) (3.3.2)\n",
            "Requirement already satisfied: idna<4,>=2.5 in /usr/local/lib/python3.10/dist-packages (from requests<3,>=2.21.0->tensorboard<2.16,>=2.15->tensorflow) (3.6)\n",
            "Requirement already satisfied: urllib3<3,>=1.21.1 in /usr/local/lib/python3.10/dist-packages (from requests<3,>=2.21.0->tensorboard<2.16,>=2.15->tensorflow) (2.0.7)\n",
            "Requirement already satisfied: certifi>=2017.4.17 in /usr/local/lib/python3.10/dist-packages (from requests<3,>=2.21.0->tensorboard<2.16,>=2.15->tensorflow) (2023.11.17)\n",
            "Requirement already satisfied: MarkupSafe>=2.1.1 in /usr/local/lib/python3.10/dist-packages (from werkzeug>=1.0.1->tensorboard<2.16,>=2.15->tensorflow) (2.1.3)\n",
            "Requirement already satisfied: pyasn1<0.6.0,>=0.4.6 in /usr/local/lib/python3.10/dist-packages (from pyasn1-modules>=0.2.1->google-auth<3,>=1.6.3->tensorboard<2.16,>=2.15->tensorflow) (0.5.1)\n",
            "Requirement already satisfied: oauthlib>=3.0.0 in /usr/local/lib/python3.10/dist-packages (from requests-oauthlib>=0.7.0->google-auth-oauthlib<2,>=0.5->tensorboard<2.16,>=2.15->tensorflow) (3.2.2)\n",
            "Requirement already satisfied: nltk in /usr/local/lib/python3.10/dist-packages (3.8.1)\n",
            "Requirement already satisfied: click in /usr/local/lib/python3.10/dist-packages (from nltk) (8.1.7)\n",
            "Requirement already satisfied: joblib in /usr/local/lib/python3.10/dist-packages (from nltk) (1.3.2)\n",
            "Requirement already satisfied: regex>=2021.8.3 in /usr/local/lib/python3.10/dist-packages (from nltk) (2023.6.3)\n",
            "Requirement already satisfied: tqdm in /usr/local/lib/python3.10/dist-packages (from nltk) (4.66.1)\n",
            "Requirement already satisfied: transformers in /usr/local/lib/python3.10/dist-packages (4.35.2)\n",
            "Requirement already satisfied: filelock in /usr/local/lib/python3.10/dist-packages (from transformers) (3.13.1)\n",
            "Requirement already satisfied: huggingface-hub<1.0,>=0.16.4 in /usr/local/lib/python3.10/dist-packages (from transformers) (0.20.2)\n",
            "Requirement already satisfied: numpy>=1.17 in /usr/local/lib/python3.10/dist-packages (from transformers) (1.23.5)\n",
            "Requirement already satisfied: packaging>=20.0 in /usr/local/lib/python3.10/dist-packages (from transformers) (23.2)\n",
            "Requirement already satisfied: pyyaml>=5.1 in /usr/local/lib/python3.10/dist-packages (from transformers) (6.0.1)\n",
            "Requirement already satisfied: regex!=2019.12.17 in /usr/local/lib/python3.10/dist-packages (from transformers) (2023.6.3)\n",
            "Requirement already satisfied: requests in /usr/local/lib/python3.10/dist-packages (from transformers) (2.31.0)\n",
            "Requirement already satisfied: tokenizers<0.19,>=0.14 in /usr/local/lib/python3.10/dist-packages (from transformers) (0.15.0)\n",
            "Requirement already satisfied: safetensors>=0.3.1 in /usr/local/lib/python3.10/dist-packages (from transformers) (0.4.1)\n",
            "Requirement already satisfied: tqdm>=4.27 in /usr/local/lib/python3.10/dist-packages (from transformers) (4.66.1)\n",
            "Requirement already satisfied: fsspec>=2023.5.0 in /usr/local/lib/python3.10/dist-packages (from huggingface-hub<1.0,>=0.16.4->transformers) (2023.6.0)\n",
            "Requirement already satisfied: typing-extensions>=3.7.4.3 in /usr/local/lib/python3.10/dist-packages (from huggingface-hub<1.0,>=0.16.4->transformers) (4.5.0)\n",
            "Requirement already satisfied: charset-normalizer<4,>=2 in /usr/local/lib/python3.10/dist-packages (from requests->transformers) (3.3.2)\n",
            "Requirement already satisfied: idna<4,>=2.5 in /usr/local/lib/python3.10/dist-packages (from requests->transformers) (3.6)\n",
            "Requirement already satisfied: urllib3<3,>=1.21.1 in /usr/local/lib/python3.10/dist-packages (from requests->transformers) (2.0.7)\n",
            "Requirement already satisfied: certifi>=2017.4.17 in /usr/local/lib/python3.10/dist-packages (from requests->transformers) (2023.11.17)\n",
            "Requirement already satisfied: contractions in /usr/local/lib/python3.10/dist-packages (0.1.73)\n",
            "Requirement already satisfied: textsearch>=0.0.21 in /usr/local/lib/python3.10/dist-packages (from contractions) (0.0.24)\n",
            "Requirement already satisfied: anyascii in /usr/local/lib/python3.10/dist-packages (from textsearch>=0.0.21->contractions) (0.3.2)\n",
            "Requirement already satisfied: pyahocorasick in /usr/local/lib/python3.10/dist-packages (from textsearch>=0.0.21->contractions) (2.0.0)\n",
            "Requirement already satisfied: tensorflow-addons in /usr/local/lib/python3.10/dist-packages (0.23.0)\n",
            "Requirement already satisfied: packaging in /usr/local/lib/python3.10/dist-packages (from tensorflow-addons) (23.2)\n",
            "Requirement already satisfied: typeguard<3.0.0,>=2.7 in /usr/local/lib/python3.10/dist-packages (from tensorflow-addons) (2.13.3)\n"
          ]
        }
      ]
    },
    {
      "cell_type": "code",
      "source": [
        "import os\n",
        "import torch\n",
        "import pandas as pd\n",
        "import seaborn as sns\n",
        "from sklearn.model_selection import train_test_split\n",
        "import matplotlib.pyplot as plt\n",
        "import nltk\n",
        "import re\n",
        "import contractions\n",
        "from nltk.corpus import stopwords\n",
        "from transformers import ErnieForSequenceClassification, BertForSequenceClassification, ErnieConfig\n",
        "from transformers import ErnieModel, AutoTokenizer, TFBertModel\n",
        "from sklearn.preprocessing import OneHotEncoder\n",
        "from imblearn.over_sampling import RandomOverSampler\n",
        "import tensorflow as tf\n",
        "from tensorflow.keras.callbacks import ModelCheckpoint, EarlyStopping, ReduceLROnPlateau\n",
        "from tensorflow.keras.optimizers import Adam\n",
        "from sklearn.preprocessing import LabelEncoder\n",
        "from tensorflow.keras.metrics import CategoricalAccuracy, Precision, Recall\n",
        "import tensorflow_addons as tfa\n",
        "from tensorflow.keras.utils import to_categorical\n",
        "import numpy as np\n",
        "from sklearn.metrics import accuracy_score, precision_score, recall_score, f1_score, confusion_matrix, f1_score"
      ],
      "metadata": {
        "id": "VK2lC4jwQypS",
        "colab": {
          "base_uri": "https://localhost:8080/"
        },
        "outputId": "8b143ea6-3b93-4a2b-a563-a6f06d573e92"
      },
      "execution_count": null,
      "outputs": [
        {
          "output_type": "stream",
          "name": "stderr",
          "text": [
            "/usr/local/lib/python3.10/dist-packages/tensorflow_addons/utils/tfa_eol_msg.py:23: UserWarning: \n",
            "\n",
            "TensorFlow Addons (TFA) has ended development and introduction of new features.\n",
            "TFA has entered a minimal maintenance and release mode until a planned end of life in May 2024.\n",
            "Please modify downstream libraries to take dependencies from other repositories in our TensorFlow community (e.g. Keras, Keras-CV, and Keras-NLP). \n",
            "\n",
            "For more information see: https://github.com/tensorflow/addons/issues/2807 \n",
            "\n",
            "  warnings.warn(\n"
          ]
        }
      ]
    },
    {
      "cell_type": "code",
      "source": [
        "nltk.download('punkt')\n",
        "nltk.download('stopwords')\n",
        "nltk.download('wordnet')\n",
        "from nltk.corpus import stopwords\n",
        "from nltk.tokenize import word_tokenize\n",
        "from nltk.stem import WordNetLemmatizer"
      ],
      "metadata": {
        "colab": {
          "base_uri": "https://localhost:8080/"
        },
        "id": "J_vbmLFuoWKd",
        "outputId": "f2016d78-fe03-4ea0-d4cf-9eac0964f563"
      },
      "execution_count": null,
      "outputs": [
        {
          "output_type": "stream",
          "name": "stderr",
          "text": [
            "[nltk_data] Downloading package punkt to /root/nltk_data...\n",
            "[nltk_data]   Package punkt is already up-to-date!\n",
            "[nltk_data] Downloading package stopwords to /root/nltk_data...\n",
            "[nltk_data]   Package stopwords is already up-to-date!\n",
            "[nltk_data] Downloading package wordnet to /root/nltk_data...\n",
            "[nltk_data]   Package wordnet is already up-to-date!\n"
          ]
        }
      ]
    },
    {
      "cell_type": "markdown",
      "source": [
        "# 2. a.\n",
        " Perform Preprocess and prepare Dataset step, describe each step including some concepts in Natural Language Processing (NLP)"
      ],
      "metadata": {
        "id": "jhtegKuaplqK"
      }
    },
    {
      "cell_type": "code",
      "source": [
        "data = pd.read_csv('Emotion.csv')"
      ],
      "metadata": {
        "id": "uq47fz2Wok6H"
      },
      "execution_count": null,
      "outputs": []
    },
    {
      "cell_type": "code",
      "source": [
        "data.head()"
      ],
      "metadata": {
        "colab": {
          "base_uri": "https://localhost:8080/",
          "height": 206
        },
        "id": "WQBM_aOwpol2",
        "outputId": "9bd56669-e429-44ca-934a-76584caee369"
      },
      "execution_count": null,
      "outputs": [
        {
          "output_type": "execute_result",
          "data": {
            "text/plain": [
              "                                                text    label\n",
              "0                            i didnt feel humiliated  sadness\n",
              "1  i can go from feeling so hopeless to so damned...  sadness\n",
              "2   im grabbing a minute to post i feel greedy wrong    anger\n",
              "3  i am ever feeling nostalgic about the fireplac...     love\n",
              "4                               i am feeling grouchy    anger"
            ],
            "text/html": [
              "\n",
              "  <div id=\"df-b089510e-6558-4880-9cd1-e13c31bbea03\" class=\"colab-df-container\">\n",
              "    <div>\n",
              "<style scoped>\n",
              "    .dataframe tbody tr th:only-of-type {\n",
              "        vertical-align: middle;\n",
              "    }\n",
              "\n",
              "    .dataframe tbody tr th {\n",
              "        vertical-align: top;\n",
              "    }\n",
              "\n",
              "    .dataframe thead th {\n",
              "        text-align: right;\n",
              "    }\n",
              "</style>\n",
              "<table border=\"1\" class=\"dataframe\">\n",
              "  <thead>\n",
              "    <tr style=\"text-align: right;\">\n",
              "      <th></th>\n",
              "      <th>text</th>\n",
              "      <th>label</th>\n",
              "    </tr>\n",
              "  </thead>\n",
              "  <tbody>\n",
              "    <tr>\n",
              "      <th>0</th>\n",
              "      <td>i didnt feel humiliated</td>\n",
              "      <td>sadness</td>\n",
              "    </tr>\n",
              "    <tr>\n",
              "      <th>1</th>\n",
              "      <td>i can go from feeling so hopeless to so damned...</td>\n",
              "      <td>sadness</td>\n",
              "    </tr>\n",
              "    <tr>\n",
              "      <th>2</th>\n",
              "      <td>im grabbing a minute to post i feel greedy wrong</td>\n",
              "      <td>anger</td>\n",
              "    </tr>\n",
              "    <tr>\n",
              "      <th>3</th>\n",
              "      <td>i am ever feeling nostalgic about the fireplac...</td>\n",
              "      <td>love</td>\n",
              "    </tr>\n",
              "    <tr>\n",
              "      <th>4</th>\n",
              "      <td>i am feeling grouchy</td>\n",
              "      <td>anger</td>\n",
              "    </tr>\n",
              "  </tbody>\n",
              "</table>\n",
              "</div>\n",
              "    <div class=\"colab-df-buttons\">\n",
              "\n",
              "  <div class=\"colab-df-container\">\n",
              "    <button class=\"colab-df-convert\" onclick=\"convertToInteractive('df-b089510e-6558-4880-9cd1-e13c31bbea03')\"\n",
              "            title=\"Convert this dataframe to an interactive table.\"\n",
              "            style=\"display:none;\">\n",
              "\n",
              "  <svg xmlns=\"http://www.w3.org/2000/svg\" height=\"24px\" viewBox=\"0 -960 960 960\">\n",
              "    <path d=\"M120-120v-720h720v720H120Zm60-500h600v-160H180v160Zm220 220h160v-160H400v160Zm0 220h160v-160H400v160ZM180-400h160v-160H180v160Zm440 0h160v-160H620v160ZM180-180h160v-160H180v160Zm440 0h160v-160H620v160Z\"/>\n",
              "  </svg>\n",
              "    </button>\n",
              "\n",
              "  <style>\n",
              "    .colab-df-container {\n",
              "      display:flex;\n",
              "      gap: 12px;\n",
              "    }\n",
              "\n",
              "    .colab-df-convert {\n",
              "      background-color: #E8F0FE;\n",
              "      border: none;\n",
              "      border-radius: 50%;\n",
              "      cursor: pointer;\n",
              "      display: none;\n",
              "      fill: #1967D2;\n",
              "      height: 32px;\n",
              "      padding: 0 0 0 0;\n",
              "      width: 32px;\n",
              "    }\n",
              "\n",
              "    .colab-df-convert:hover {\n",
              "      background-color: #E2EBFA;\n",
              "      box-shadow: 0px 1px 2px rgba(60, 64, 67, 0.3), 0px 1px 3px 1px rgba(60, 64, 67, 0.15);\n",
              "      fill: #174EA6;\n",
              "    }\n",
              "\n",
              "    .colab-df-buttons div {\n",
              "      margin-bottom: 4px;\n",
              "    }\n",
              "\n",
              "    [theme=dark] .colab-df-convert {\n",
              "      background-color: #3B4455;\n",
              "      fill: #D2E3FC;\n",
              "    }\n",
              "\n",
              "    [theme=dark] .colab-df-convert:hover {\n",
              "      background-color: #434B5C;\n",
              "      box-shadow: 0px 1px 3px 1px rgba(0, 0, 0, 0.15);\n",
              "      filter: drop-shadow(0px 1px 2px rgba(0, 0, 0, 0.3));\n",
              "      fill: #FFFFFF;\n",
              "    }\n",
              "  </style>\n",
              "\n",
              "    <script>\n",
              "      const buttonEl =\n",
              "        document.querySelector('#df-b089510e-6558-4880-9cd1-e13c31bbea03 button.colab-df-convert');\n",
              "      buttonEl.style.display =\n",
              "        google.colab.kernel.accessAllowed ? 'block' : 'none';\n",
              "\n",
              "      async function convertToInteractive(key) {\n",
              "        const element = document.querySelector('#df-b089510e-6558-4880-9cd1-e13c31bbea03');\n",
              "        const dataTable =\n",
              "          await google.colab.kernel.invokeFunction('convertToInteractive',\n",
              "                                                    [key], {});\n",
              "        if (!dataTable) return;\n",
              "\n",
              "        const docLinkHtml = 'Like what you see? Visit the ' +\n",
              "          '<a target=\"_blank\" href=https://colab.research.google.com/notebooks/data_table.ipynb>data table notebook</a>'\n",
              "          + ' to learn more about interactive tables.';\n",
              "        element.innerHTML = '';\n",
              "        dataTable['output_type'] = 'display_data';\n",
              "        await google.colab.output.renderOutput(dataTable, element);\n",
              "        const docLink = document.createElement('div');\n",
              "        docLink.innerHTML = docLinkHtml;\n",
              "        element.appendChild(docLink);\n",
              "      }\n",
              "    </script>\n",
              "  </div>\n",
              "\n",
              "\n",
              "<div id=\"df-6335599c-df5b-4fe3-b1bd-feb9c628bdf6\">\n",
              "  <button class=\"colab-df-quickchart\" onclick=\"quickchart('df-6335599c-df5b-4fe3-b1bd-feb9c628bdf6')\"\n",
              "            title=\"Suggest charts\"\n",
              "            style=\"display:none;\">\n",
              "\n",
              "<svg xmlns=\"http://www.w3.org/2000/svg\" height=\"24px\"viewBox=\"0 0 24 24\"\n",
              "     width=\"24px\">\n",
              "    <g>\n",
              "        <path d=\"M19 3H5c-1.1 0-2 .9-2 2v14c0 1.1.9 2 2 2h14c1.1 0 2-.9 2-2V5c0-1.1-.9-2-2-2zM9 17H7v-7h2v7zm4 0h-2V7h2v10zm4 0h-2v-4h2v4z\"/>\n",
              "    </g>\n",
              "</svg>\n",
              "  </button>\n",
              "\n",
              "<style>\n",
              "  .colab-df-quickchart {\n",
              "      --bg-color: #E8F0FE;\n",
              "      --fill-color: #1967D2;\n",
              "      --hover-bg-color: #E2EBFA;\n",
              "      --hover-fill-color: #174EA6;\n",
              "      --disabled-fill-color: #AAA;\n",
              "      --disabled-bg-color: #DDD;\n",
              "  }\n",
              "\n",
              "  [theme=dark] .colab-df-quickchart {\n",
              "      --bg-color: #3B4455;\n",
              "      --fill-color: #D2E3FC;\n",
              "      --hover-bg-color: #434B5C;\n",
              "      --hover-fill-color: #FFFFFF;\n",
              "      --disabled-bg-color: #3B4455;\n",
              "      --disabled-fill-color: #666;\n",
              "  }\n",
              "\n",
              "  .colab-df-quickchart {\n",
              "    background-color: var(--bg-color);\n",
              "    border: none;\n",
              "    border-radius: 50%;\n",
              "    cursor: pointer;\n",
              "    display: none;\n",
              "    fill: var(--fill-color);\n",
              "    height: 32px;\n",
              "    padding: 0;\n",
              "    width: 32px;\n",
              "  }\n",
              "\n",
              "  .colab-df-quickchart:hover {\n",
              "    background-color: var(--hover-bg-color);\n",
              "    box-shadow: 0 1px 2px rgba(60, 64, 67, 0.3), 0 1px 3px 1px rgba(60, 64, 67, 0.15);\n",
              "    fill: var(--button-hover-fill-color);\n",
              "  }\n",
              "\n",
              "  .colab-df-quickchart-complete:disabled,\n",
              "  .colab-df-quickchart-complete:disabled:hover {\n",
              "    background-color: var(--disabled-bg-color);\n",
              "    fill: var(--disabled-fill-color);\n",
              "    box-shadow: none;\n",
              "  }\n",
              "\n",
              "  .colab-df-spinner {\n",
              "    border: 2px solid var(--fill-color);\n",
              "    border-color: transparent;\n",
              "    border-bottom-color: var(--fill-color);\n",
              "    animation:\n",
              "      spin 1s steps(1) infinite;\n",
              "  }\n",
              "\n",
              "  @keyframes spin {\n",
              "    0% {\n",
              "      border-color: transparent;\n",
              "      border-bottom-color: var(--fill-color);\n",
              "      border-left-color: var(--fill-color);\n",
              "    }\n",
              "    20% {\n",
              "      border-color: transparent;\n",
              "      border-left-color: var(--fill-color);\n",
              "      border-top-color: var(--fill-color);\n",
              "    }\n",
              "    30% {\n",
              "      border-color: transparent;\n",
              "      border-left-color: var(--fill-color);\n",
              "      border-top-color: var(--fill-color);\n",
              "      border-right-color: var(--fill-color);\n",
              "    }\n",
              "    40% {\n",
              "      border-color: transparent;\n",
              "      border-right-color: var(--fill-color);\n",
              "      border-top-color: var(--fill-color);\n",
              "    }\n",
              "    60% {\n",
              "      border-color: transparent;\n",
              "      border-right-color: var(--fill-color);\n",
              "    }\n",
              "    80% {\n",
              "      border-color: transparent;\n",
              "      border-right-color: var(--fill-color);\n",
              "      border-bottom-color: var(--fill-color);\n",
              "    }\n",
              "    90% {\n",
              "      border-color: transparent;\n",
              "      border-bottom-color: var(--fill-color);\n",
              "    }\n",
              "  }\n",
              "</style>\n",
              "\n",
              "  <script>\n",
              "    async function quickchart(key) {\n",
              "      const quickchartButtonEl =\n",
              "        document.querySelector('#' + key + ' button');\n",
              "      quickchartButtonEl.disabled = true;  // To prevent multiple clicks.\n",
              "      quickchartButtonEl.classList.add('colab-df-spinner');\n",
              "      try {\n",
              "        const charts = await google.colab.kernel.invokeFunction(\n",
              "            'suggestCharts', [key], {});\n",
              "      } catch (error) {\n",
              "        console.error('Error during call to suggestCharts:', error);\n",
              "      }\n",
              "      quickchartButtonEl.classList.remove('colab-df-spinner');\n",
              "      quickchartButtonEl.classList.add('colab-df-quickchart-complete');\n",
              "    }\n",
              "    (() => {\n",
              "      let quickchartButtonEl =\n",
              "        document.querySelector('#df-6335599c-df5b-4fe3-b1bd-feb9c628bdf6 button');\n",
              "      quickchartButtonEl.style.display =\n",
              "        google.colab.kernel.accessAllowed ? 'block' : 'none';\n",
              "    })();\n",
              "  </script>\n",
              "</div>\n",
              "    </div>\n",
              "  </div>\n"
            ]
          },
          "metadata": {},
          "execution_count": 6
        }
      ]
    },
    {
      "cell_type": "code",
      "source": [
        "data.isnull().sum()"
      ],
      "metadata": {
        "colab": {
          "base_uri": "https://localhost:8080/"
        },
        "id": "yr66opHquFhF",
        "outputId": "953cf172-7bb3-474b-af28-756fefdedcf2"
      },
      "execution_count": null,
      "outputs": [
        {
          "output_type": "execute_result",
          "data": {
            "text/plain": [
              "text     0\n",
              "label    0\n",
              "dtype: int64"
            ]
          },
          "metadata": {},
          "execution_count": 7
        }
      ]
    },
    {
      "cell_type": "code",
      "source": [
        "data['label'].value_counts()"
      ],
      "metadata": {
        "colab": {
          "base_uri": "https://localhost:8080/"
        },
        "id": "zLPnXiLAv2zn",
        "outputId": "6994abdd-7cfb-4964-cc74-02a608e66d63"
      },
      "execution_count": null,
      "outputs": [
        {
          "output_type": "execute_result",
          "data": {
            "text/plain": [
              "joy         6761\n",
              "sadness     5797\n",
              "anger       2709\n",
              "fear        2373\n",
              "love        1641\n",
              "surprise     719\n",
              "Name: label, dtype: int64"
            ]
          },
          "metadata": {},
          "execution_count": 7
        }
      ]
    },
    {
      "cell_type": "code",
      "source": [
        "data[\"label\"].value_counts(ascending=True).plot.barh()\n",
        "plt.title(\"Frequency of Classes\")\n",
        "plt.show()"
      ],
      "metadata": {
        "colab": {
          "base_uri": "https://localhost:8080/",
          "height": 452
        },
        "id": "F-Pvyc9UKDwd",
        "outputId": "787399ab-e834-4038-b4a4-b70ebc20ffb3"
      },
      "execution_count": null,
      "outputs": [
        {
          "output_type": "display_data",
          "data": {
            "text/plain": [
              "<Figure size 640x480 with 1 Axes>"
            ],
            "image/png": "[encoded data removed]"
          },
          "metadata": {}
        }
      ]
    },
    {
      "cell_type": "code",
      "source": [
        "data['label'] = data['label'].map({'sadness': 0, 'anger': 1, 'love': 2, 'surprise': 3, 'fear': 4, 'joy': 5})"
      ],
      "metadata": {
        "id": "DT5C-kQjKT3G"
      },
      "execution_count": null,
      "outputs": []
    },
    {
      "cell_type": "code",
      "source": [
        "data"
      ],
      "metadata": {
        "colab": {
          "base_uri": "https://localhost:8080/",
          "height": 423
        },
        "id": "Wyv74D6eKWtT",
        "outputId": "4df07131-5dfe-4fd4-ab0d-49284f4fe133"
      },
      "execution_count": null,
      "outputs": [
        {
          "output_type": "execute_result",
          "data": {
            "text/plain": [
              "                                                    text  label\n",
              "0                                i didnt feel humiliated      0\n",
              "1      i can go from feeling so hopeless to so damned...      0\n",
              "2       im grabbing a minute to post i feel greedy wrong      1\n",
              "3      i am ever feeling nostalgic about the fireplac...      2\n",
              "4                                   i am feeling grouchy      1\n",
              "...                                                  ...    ...\n",
              "19995  im having ssa examination tomorrow in the morn...      0\n",
              "19996  i constantly worry about their fight against n...      5\n",
              "19997  i feel its important to share this info for th...      5\n",
              "19998  i truly feel that if you are passionate enough...      5\n",
              "19999  i feel like i just wanna buy any cute make up ...      5\n",
              "\n",
              "[20000 rows x 2 columns]"
            ],
            "text/html": [
              "\n",
              "  <div id=\"df-f121d0a7-6aa0-4e9e-a8a5-f17961f23a9b\" class=\"colab-df-container\">\n",
              "    <div>\n",
              "<style scoped>\n",
              "    .dataframe tbody tr th:only-of-type {\n",
              "        vertical-align: middle;\n",
              "    }\n",
              "\n",
              "    .dataframe tbody tr th {\n",
              "        vertical-align: top;\n",
              "    }\n",
              "\n",
              "    .dataframe thead th {\n",
              "        text-align: right;\n",
              "    }\n",
              "</style>\n",
              "<table border=\"1\" class=\"dataframe\">\n",
              "  <thead>\n",
              "    <tr style=\"text-align: right;\">\n",
              "      <th></th>\n",
              "      <th>text</th>\n",
              "      <th>label</th>\n",
              "    </tr>\n",
              "  </thead>\n",
              "  <tbody>\n",
              "    <tr>\n",
              "      <th>0</th>\n",
              "      <td>i didnt feel humiliated</td>\n",
              "      <td>0</td>\n",
              "    </tr>\n",
              "    <tr>\n",
              "      <th>1</th>\n",
              "      <td>i can go from feeling so hopeless to so damned...</td>\n",
              "      <td>0</td>\n",
              "    </tr>\n",
              "    <tr>\n",
              "      <th>2</th>\n",
              "      <td>im grabbing a minute to post i feel greedy wrong</td>\n",
              "      <td>1</td>\n",
              "    </tr>\n",
              "    <tr>\n",
              "      <th>3</th>\n",
              "      <td>i am ever feeling nostalgic about the fireplac...</td>\n",
              "      <td>2</td>\n",
              "    </tr>\n",
              "    <tr>\n",
              "      <th>4</th>\n",
              "      <td>i am feeling grouchy</td>\n",
              "      <td>1</td>\n",
              "    </tr>\n",
              "    <tr>\n",
              "      <th>...</th>\n",
              "      <td>...</td>\n",
              "      <td>...</td>\n",
              "    </tr>\n",
              "    <tr>\n",
              "      <th>19995</th>\n",
              "      <td>im having ssa examination tomorrow in the morn...</td>\n",
              "      <td>0</td>\n",
              "    </tr>\n",
              "    <tr>\n",
              "      <th>19996</th>\n",
              "      <td>i constantly worry about their fight against n...</td>\n",
              "      <td>5</td>\n",
              "    </tr>\n",
              "    <tr>\n",
              "      <th>19997</th>\n",
              "      <td>i feel its important to share this info for th...</td>\n",
              "      <td>5</td>\n",
              "    </tr>\n",
              "    <tr>\n",
              "      <th>19998</th>\n",
              "      <td>i truly feel that if you are passionate enough...</td>\n",
              "      <td>5</td>\n",
              "    </tr>\n",
              "    <tr>\n",
              "      <th>19999</th>\n",
              "      <td>i feel like i just wanna buy any cute make up ...</td>\n",
              "      <td>5</td>\n",
              "    </tr>\n",
              "  </tbody>\n",
              "</table>\n",
              "<p>20000 rows × 2 columns</p>\n",
              "</div>\n",
              "    <div class=\"colab-df-buttons\">\n",
              "\n",
              "  <div class=\"colab-df-container\">\n",
              "    <button class=\"colab-df-convert\" onclick=\"convertToInteractive('df-f121d0a7-6aa0-4e9e-a8a5-f17961f23a9b')\"\n",
              "            title=\"Convert this dataframe to an interactive table.\"\n",
              "            style=\"display:none;\">\n",
              "\n",
              "  <svg xmlns=\"http://www.w3.org/2000/svg\" height=\"24px\" viewBox=\"0 -960 960 960\">\n",
              "    <path d=\"M120-120v-720h720v720H120Zm60-500h600v-160H180v160Zm220 220h160v-160H400v160Zm0 220h160v-160H400v160ZM180-400h160v-160H180v160Zm440 0h160v-160H620v160ZM180-180h160v-160H180v160Zm440 0h160v-160H620v160Z\"/>\n",
              "  </svg>\n",
              "    </button>\n",
              "\n",
              "  <style>\n",
              "    .colab-df-container {\n",
              "      display:flex;\n",
              "      gap: 12px;\n",
              "    }\n",
              "\n",
              "    .colab-df-convert {\n",
              "      background-color: #E8F0FE;\n",
              "      border: none;\n",
              "      border-radius: 50%;\n",
              "      cursor: pointer;\n",
              "      display: none;\n",
              "      fill: #1967D2;\n",
              "      height: 32px;\n",
              "      padding: 0 0 0 0;\n",
              "      width: 32px;\n",
              "    }\n",
              "\n",
              "    .colab-df-convert:hover {\n",
              "      background-color: #E2EBFA;\n",
              "      box-shadow: 0px 1px 2px rgba(60, 64, 67, 0.3), 0px 1px 3px 1px rgba(60, 64, 67, 0.15);\n",
              "      fill: #174EA6;\n",
              "    }\n",
              "\n",
              "    .colab-df-buttons div {\n",
              "      margin-bottom: 4px;\n",
              "    }\n",
              "\n",
              "    [theme=dark] .colab-df-convert {\n",
              "      background-color: #3B4455;\n",
              "      fill: #D2E3FC;\n",
              "    }\n",
              "\n",
              "    [theme=dark] .colab-df-convert:hover {\n",
              "      background-color: #434B5C;\n",
              "      box-shadow: 0px 1px 3px 1px rgba(0, 0, 0, 0.15);\n",
              "      filter: drop-shadow(0px 1px 2px rgba(0, 0, 0, 0.3));\n",
              "      fill: #FFFFFF;\n",
              "    }\n",
              "  </style>\n",
              "\n",
              "    <script>\n",
              "      const buttonEl =\n",
              "        document.querySelector('#df-f121d0a7-6aa0-4e9e-a8a5-f17961f23a9b button.colab-df-convert');\n",
              "      buttonEl.style.display =\n",
              "        google.colab.kernel.accessAllowed ? 'block' : 'none';\n",
              "\n",
              "      async function convertToInteractive(key) {\n",
              "        const element = document.querySelector('#df-f121d0a7-6aa0-4e9e-a8a5-f17961f23a9b');\n",
              "        const dataTable =\n",
              "          await google.colab.kernel.invokeFunction('convertToInteractive',\n",
              "                                                    [key], {});\n",
              "        if (!dataTable) return;\n",
              "\n",
              "        const docLinkHtml = 'Like what you see? Visit the ' +\n",
              "          '<a target=\"_blank\" href=https://colab.research.google.com/notebooks/data_table.ipynb>data table notebook</a>'\n",
              "          + ' to learn more about interactive tables.';\n",
              "        element.innerHTML = '';\n",
              "        dataTable['output_type'] = 'display_data';\n",
              "        await google.colab.output.renderOutput(dataTable, element);\n",
              "        const docLink = document.createElement('div');\n",
              "        docLink.innerHTML = docLinkHtml;\n",
              "        element.appendChild(docLink);\n",
              "      }\n",
              "    </script>\n",
              "  </div>\n",
              "\n",
              "\n",
              "<div id=\"df-39df826e-b3d2-46db-b93d-08e0d87571c0\">\n",
              "  <button class=\"colab-df-quickchart\" onclick=\"quickchart('df-39df826e-b3d2-46db-b93d-08e0d87571c0')\"\n",
              "            title=\"Suggest charts\"\n",
              "            style=\"display:none;\">\n",
              "\n",
              "<svg xmlns=\"http://www.w3.org/2000/svg\" height=\"24px\"viewBox=\"0 0 24 24\"\n",
              "     width=\"24px\">\n",
              "    <g>\n",
              "        <path d=\"M19 3H5c-1.1 0-2 .9-2 2v14c0 1.1.9 2 2 2h14c1.1 0 2-.9 2-2V5c0-1.1-.9-2-2-2zM9 17H7v-7h2v7zm4 0h-2V7h2v10zm4 0h-2v-4h2v4z\"/>\n",
              "    </g>\n",
              "</svg>\n",
              "  </button>\n",
              "\n",
              "<style>\n",
              "  .colab-df-quickchart {\n",
              "      --bg-color: #E8F0FE;\n",
              "      --fill-color: #1967D2;\n",
              "      --hover-bg-color: #E2EBFA;\n",
              "      --hover-fill-color: #174EA6;\n",
              "      --disabled-fill-color: #AAA;\n",
              "      --disabled-bg-color: #DDD;\n",
              "  }\n",
              "\n",
              "  [theme=dark] .colab-df-quickchart {\n",
              "      --bg-color: #3B4455;\n",
              "      --fill-color: #D2E3FC;\n",
              "      --hover-bg-color: #434B5C;\n",
              "      --hover-fill-color: #FFFFFF;\n",
              "      --disabled-bg-color: #3B4455;\n",
              "      --disabled-fill-color: #666;\n",
              "  }\n",
              "\n",
              "  .colab-df-quickchart {\n",
              "    background-color: var(--bg-color);\n",
              "    border: none;\n",
              "    border-radius: 50%;\n",
              "    cursor: pointer;\n",
              "    display: none;\n",
              "    fill: var(--fill-color);\n",
              "    height: 32px;\n",
              "    padding: 0;\n",
              "    width: 32px;\n",
              "  }\n",
              "\n",
              "  .colab-df-quickchart:hover {\n",
              "    background-color: var(--hover-bg-color);\n",
              "    box-shadow: 0 1px 2px rgba(60, 64, 67, 0.3), 0 1px 3px 1px rgba(60, 64, 67, 0.15);\n",
              "    fill: var(--button-hover-fill-color);\n",
              "  }\n",
              "\n",
              "  .colab-df-quickchart-complete:disabled,\n",
              "  .colab-df-quickchart-complete:disabled:hover {\n",
              "    background-color: var(--disabled-bg-color);\n",
              "    fill: var(--disabled-fill-color);\n",
              "    box-shadow: none;\n",
              "  }\n",
              "\n",
              "  .colab-df-spinner {\n",
              "    border: 2px solid var(--fill-color);\n",
              "    border-color: transparent;\n",
              "    border-bottom-color: var(--fill-color);\n",
              "    animation:\n",
              "      spin 1s steps(1) infinite;\n",
              "  }\n",
              "\n",
              "  @keyframes spin {\n",
              "    0% {\n",
              "      border-color: transparent;\n",
              "      border-bottom-color: var(--fill-color);\n",
              "      border-left-color: var(--fill-color);\n",
              "    }\n",
              "    20% {\n",
              "      border-color: transparent;\n",
              "      border-left-color: var(--fill-color);\n",
              "      border-top-color: var(--fill-color);\n",
              "    }\n",
              "    30% {\n",
              "      border-color: transparent;\n",
              "      border-left-color: var(--fill-color);\n",
              "      border-top-color: var(--fill-color);\n",
              "      border-right-color: var(--fill-color);\n",
              "    }\n",
              "    40% {\n",
              "      border-color: transparent;\n",
              "      border-right-color: var(--fill-color);\n",
              "      border-top-color: var(--fill-color);\n",
              "    }\n",
              "    60% {\n",
              "      border-color: transparent;\n",
              "      border-right-color: var(--fill-color);\n",
              "    }\n",
              "    80% {\n",
              "      border-color: transparent;\n",
              "      border-right-color: var(--fill-color);\n",
              "      border-bottom-color: var(--fill-color);\n",
              "    }\n",
              "    90% {\n",
              "      border-color: transparent;\n",
              "      border-bottom-color: var(--fill-color);\n",
              "    }\n",
              "  }\n",
              "</style>\n",
              "\n",
              "  <script>\n",
              "    async function quickchart(key) {\n",
              "      const quickchartButtonEl =\n",
              "        document.querySelector('#' + key + ' button');\n",
              "      quickchartButtonEl.disabled = true;  // To prevent multiple clicks.\n",
              "      quickchartButtonEl.classList.add('colab-df-spinner');\n",
              "      try {\n",
              "        const charts = await google.colab.kernel.invokeFunction(\n",
              "            'suggestCharts', [key], {});\n",
              "      } catch (error) {\n",
              "        console.error('Error during call to suggestCharts:', error);\n",
              "      }\n",
              "      quickchartButtonEl.classList.remove('colab-df-spinner');\n",
              "      quickchartButtonEl.classList.add('colab-df-quickchart-complete');\n",
              "    }\n",
              "    (() => {\n",
              "      let quickchartButtonEl =\n",
              "        document.querySelector('#df-39df826e-b3d2-46db-b93d-08e0d87571c0 button');\n",
              "      quickchartButtonEl.style.display =\n",
              "        google.colab.kernel.accessAllowed ? 'block' : 'none';\n",
              "    })();\n",
              "  </script>\n",
              "</div>\n",
              "    </div>\n",
              "  </div>\n"
            ]
          },
          "metadata": {},
          "execution_count": 9
        }
      ]
    },
    {
      "cell_type": "code",
      "source": [
        "def preprocess_text(text):\n",
        "    # Remove special characters and convert to lowercase\n",
        "    text = re.sub(r'\\W', ' ', text.lower())\n",
        "\n",
        "    # Handle contractions\n",
        "    text = contractions.fix(text)\n",
        "\n",
        "    # Lemmatization\n",
        "    lemmatizer = WordNetLemmatizer()\n",
        "    text = ' '.join(lemmatizer.lemmatize(word) for word in text.split())\n",
        "\n",
        "    return text"
      ],
      "metadata": {
        "id": "5l1rqC_qLpF3"
      },
      "execution_count": null,
      "outputs": []
    },
    {
      "cell_type": "code",
      "source": [
        "# Apply the preprocessing function to the 'text' column\n",
        "data['text'] = data['text'].apply(preprocess_text)\n",
        "\n",
        "# Remove stop words\n",
        "stop_words = set(stopwords.words('english'))\n",
        "data['text'] = data['text'].apply(lambda x: ' '.join(word for word in x.split() if word not in stop_words))"
      ],
      "metadata": {
        "id": "DSxpmH23LrLS"
      },
      "execution_count": null,
      "outputs": []
    },
    {
      "cell_type": "code",
      "source": [
        "# ERNIE 2.0 tokenizer\n",
        "tokenizer = AutoTokenizer.from_pretrained(\"nghuyong/ernie-2.0-base-en\", truncation=True, do_lower_case=True)"
      ],
      "metadata": {
        "colab": {
          "base_uri": "https://localhost:8080/"
        },
        "id": "O6KsCgyUKarm",
        "outputId": "4701caaf-9505-4b0f-96ec-37d428fba259"
      },
      "execution_count": null,
      "outputs": [
        {
          "output_type": "stream",
          "name": "stderr",
          "text": [
            "/usr/local/lib/python3.10/dist-packages/huggingface_hub/utils/_token.py:88: UserWarning: \n",
            "The secret `HF_TOKEN` does not exist in your Colab secrets.\n",
            "To authenticate with the Hugging Face Hub, create a token in your settings tab (https://huggingface.co/settings/tokens), set it as secret in your Google Colab and restart your session.\n",
            "You will be able to reuse this secret in all of your notebooks.\n",
            "Please note that authentication is recommended but still optional to access public models or datasets.\n",
            "  warnings.warn(\n"
          ]
        }
      ]
    },
    {
      "cell_type": "markdown",
      "source": [
        "Natural Language Processing (NLP) merupakan bidang kecerdasan buatan (AI) yang berfokus pada interaksi antara komputer dan bahasa manusia. Bidang ini melibatkan pengembangan model komputasi dan algoritme untuk memungkinkan komputer memahami, menafsirkan, dan menghasilkan bahasa manusia dengan cara yang berharga dan bermakna. Penjelasan konsep Natural Language Processing (NLP) pada code :     \n",
        "- text = re.sub(r'\\W', ' ', text.lower()) -> Menghapus karakter khusus dengan menggantinya dengan spasi dan mengonversi seluruh teks menjadi huruf kecil. Dalam konsep NLP membantu untuk memperlakukan kata-kata dengan cara yang tidak peka huruf besar-kecil dan mengurangi ukuran kosakata.\n",
        "- text = contractions.fix(text) -> Memperluas kontraksi dalam teks (misalnya don't diperluas menjadi do not). Dalam konsep NLP menangani kontraksi sangat penting untuk menjaga integritas kata dalam teks. Ini memastikan bahwa kata-kata terwakili dalam bentuk lengkapnya.\n",
        "- lemmatizer = WordNetLemmatizer()\n",
        "text = ' '.join(lemmatizer.lemmatize(word) for word in text.split()) -> Lemmatisasi digunakan dalam pengurangan kata ke bentuk dasarnya. Pada konsep NLP lemmatisasi membantu mengurangi kata-kata yang diubah menjadi bentuk dasarnya, yang dapat meningkatkan kinerja model NLP.\n",
        "- stop_words = set(stopwords.words('english'))\n",
        "data['text'] = data['text'].apply(lambda x: ' '.join(word for word in x.split() if word not in stop_words)) -> Mengambil stop words pada bahasa Inggris menggunakan stopwordsmodul. Stop words adalah kata-kata umum seperti \"the\", \"and\", \"is\", dll., yang sering kali dihilangkan karena tidak memiliki arti penting dalam banyak tugas NLP. Dalam konsep NLP hal ini dapat meningkatkan efisiensi tugas NLP.\n",
        "- tokenizer = AutoTokenizer.from_pretrained(\"nghuyong/ernie-2.0-base-en\", truncation=True, do_lower_case=True) -> Pada konsep NLP tokenisasi adalah proses memecah teks menjadi unit-unit yang lebih kecil, sering kali berupa kata atau subkata.\n",
        "\n",
        "\n",
        "Referensi : Arora, G. (2020). inltk: Natural language toolkit for indic languages. arXiv preprint arXiv:2009.12534. Diakses dari : https://arxiv.org/abs/2009.12534"
      ],
      "metadata": {
        "id": "jnIU0u2sqwMR"
      }
    },
    {
      "cell_type": "markdown",
      "source": [
        "# 2. b.\n",
        "Divide the dataset into training, validation, and testing sets following these guidelines: allocate 70% of the data for training, 15% for validation,\n",
        "and 15% for testing."
      ],
      "metadata": {
        "id": "FnfawPyjuiI6"
      }
    },
    {
      "cell_type": "code",
      "source": [
        "# Split the dataset\n",
        "train, temp = train_test_split(data, test_size=0.3, random_state=42)\n",
        "val, test= train_test_split(temp, test_size=0.5, random_state=42)"
      ],
      "metadata": {
        "id": "46klH4SgLypj"
      },
      "execution_count": null,
      "outputs": []
    },
    {
      "cell_type": "code",
      "source": [
        "X_train = train[\"text\"].values\n",
        "Y_train = train[\"label\"].values\n",
        "\n",
        "X_val = val[\"text\"].values\n",
        "Y_val = val[\"label\"].values\n",
        "\n",
        "X_test = test[\"text\"].values\n",
        "Y_test = test[\"label\"].values"
      ],
      "metadata": {
        "id": "8ZbEHSgwL4M5"
      },
      "execution_count": null,
      "outputs": []
    },
    {
      "cell_type": "code",
      "source": [
        "print(\"Train: \", len(X_train))\n",
        "print(\"Test: \", len(X_test))\n",
        "print(\"Validation: \", len(X_val))"
      ],
      "metadata": {
        "colab": {
          "base_uri": "https://localhost:8080/"
        },
        "id": "mRgWF6jhMK8K",
        "outputId": "314ecc26-9209-4ff0-9ec0-fa2119efc2a9"
      },
      "execution_count": null,
      "outputs": [
        {
          "output_type": "stream",
          "name": "stdout",
          "text": [
            "Train:  14000\n",
            "Test:  3000\n",
            "Validation:  3000\n"
          ]
        }
      ]
    },
    {
      "cell_type": "markdown",
      "source": [
        "# 2. c.\n",
        "Develop the model based on Table 1. Train your model based on the train dataset until achieving satisfactory accuracy"
      ],
      "metadata": {
        "id": "WC9I6wAq-EF2"
      }
    },
    {
      "cell_type": "code",
      "source": [
        "train_encodings = tokenizer(list(X_train),\n",
        "                            max_length = 128,\n",
        "                            padding ='max_length',\n",
        "                            truncation=True)\n",
        "val_encodings = tokenizer(list(X_val),\n",
        "                            max_length = 128,\n",
        "                            padding ='max_length',\n",
        "                            truncation=True)\n",
        "test_encodings = tokenizer(list(X_test),\n",
        "                            max_length = 128,\n",
        "                            padding ='max_length',\n",
        "                            truncation=True)"
      ],
      "metadata": {
        "id": "tEb-oNEa8H7a"
      },
      "execution_count": null,
      "outputs": []
    },
    {
      "cell_type": "code",
      "source": [
        "train_encodings.keys()"
      ],
      "metadata": {
        "colab": {
          "base_uri": "https://localhost:8080/"
        },
        "id": "E-LmJwCr8PHJ",
        "outputId": "a4121e1f-1797-43a9-849f-47745fe620e5"
      },
      "execution_count": null,
      "outputs": [
        {
          "output_type": "execute_result",
          "data": {
            "text/plain": [
              "dict_keys(['input_ids', 'token_type_ids', 'attention_mask'])"
            ]
          },
          "metadata": {},
          "execution_count": 24
        }
      ]
    },
    {
      "cell_type": "code",
      "source": [
        "train_inputs_ids = tf.constant(train_encodings['input_ids'])\n",
        "train_inputs_mask = tf.constant(train_encodings['attention_mask'])\n",
        "train_inputs_token = tf.constant(train_encodings['token_type_ids'])\n",
        "train_labels = tf.constant(Y_train)\n",
        "\n",
        "val_inputs_ids = tf.constant(val_encodings['input_ids'])\n",
        "val_inputs_mask = tf.constant(val_encodings['attention_mask'])\n",
        "val_inputs_token = tf.constant(val_encodings['token_type_ids'])\n",
        "val_labels = tf.constant(Y_val)\n",
        "\n",
        "test_inputs_ids = tf.constant(test_encodings['input_ids'])\n",
        "test_inputs_mask = tf.constant(test_encodings['attention_mask'])\n",
        "test_inputs_token = tf.constant(test_encodings['token_type_ids'])\n",
        "test_labels = tf.constant(Y_test)"
      ],
      "metadata": {
        "id": "j5jDLCPV8SoA"
      },
      "execution_count": null,
      "outputs": []
    },
    {
      "cell_type": "code",
      "source": [
        "test_inputs_token.shape"
      ],
      "metadata": {
        "colab": {
          "base_uri": "https://localhost:8080/"
        },
        "id": "c5QNTUet8Yyt",
        "outputId": "ecc8a408-7264-4cd2-c214-4cfe9dfbdb49"
      },
      "execution_count": null,
      "outputs": [
        {
          "output_type": "execute_result",
          "data": {
            "text/plain": [
              "TensorShape([3000, 128])"
            ]
          },
          "metadata": {},
          "execution_count": 26
        }
      ]
    },
    {
      "cell_type": "code",
      "source": [
        "ernie_model = TFBertModel.from_pretrained(\"nghuyong/ernie-2.0-base-en\", from_pt=True)"
      ],
      "metadata": {
        "colab": {
          "base_uri": "https://localhost:8080/"
        },
        "id": "mOQpB3-58Z0F",
        "outputId": "58794b5b-6b99-4a0e-b945-146d49ec1a74"
      },
      "execution_count": null,
      "outputs": [
        {
          "output_type": "stream",
          "name": "stderr",
          "text": [
            "You are using a model of type ernie to instantiate a model of type bert. This is not supported for all configurations of models and can yield errors.\n",
            "Some weights of the PyTorch model were not used when initializing the TF 2.0 model TFBertModel: ['ernie.encoder.layer.5.attention.self.query.bias', 'ernie.encoder.layer.5.output.LayerNorm.weight', 'ernie.encoder.layer.8.attention.self.query.bias', 'ernie.encoder.layer.0.output.LayerNorm.bias', 'ernie.encoder.layer.7.output.LayerNorm.bias', 'ernie.encoder.layer.5.attention.self.value.bias', 'ernie.encoder.layer.0.attention.self.value.weight', 'ernie.encoder.layer.9.attention.self.value.weight', 'ernie.encoder.layer.8.attention.self.key.weight', 'ernie.encoder.layer.8.attention.self.key.bias', 'ernie.encoder.layer.5.attention.self.key.bias', 'ernie.encoder.layer.6.output.dense.weight', 'ernie.encoder.layer.10.attention.self.query.bias', 'ernie.encoder.layer.6.attention.self.key.bias', 'ernie.encoder.layer.9.attention.self.value.bias', 'ernie.encoder.layer.9.attention.output.LayerNorm.bias', 'ernie.encoder.layer.7.attention.output.LayerNorm.bias', 'ernie.encoder.layer.2.attention.self.query.bias', 'ernie.embeddings.token_type_embeddings.weight', 'ernie.encoder.layer.2.output.LayerNorm.bias', 'ernie.encoder.layer.8.output.dense.weight', 'ernie.encoder.layer.11.output.dense.weight', 'ernie.encoder.layer.4.attention.self.value.weight', 'ernie.encoder.layer.10.intermediate.dense.bias', 'ernie.encoder.layer.5.attention.self.value.weight', 'ernie.encoder.layer.3.attention.output.LayerNorm.weight', 'ernie.encoder.layer.5.attention.output.dense.bias', 'ernie.encoder.layer.8.attention.self.value.bias', 'ernie.encoder.layer.4.attention.self.query.bias', 'ernie.encoder.layer.0.attention.self.query.weight', 'ernie.encoder.layer.4.attention.self.key.bias', 'ernie.encoder.layer.0.output.LayerNorm.weight', 'ernie.encoder.layer.10.attention.self.value.bias', 'ernie.encoder.layer.4.output.LayerNorm.bias', 'ernie.encoder.layer.10.attention.output.LayerNorm.weight', 'ernie.encoder.layer.6.attention.self.query.bias', 'ernie.encoder.layer.8.intermediate.dense.bias', 'ernie.encoder.layer.11.attention.self.key.bias', 'ernie.encoder.layer.8.output.dense.bias', 'ernie.encoder.layer.2.intermediate.dense.bias', 'ernie.encoder.layer.10.attention.output.dense.bias', 'ernie.encoder.layer.5.output.dense.weight', 'ernie.encoder.layer.8.attention.output.dense.weight', 'ernie.encoder.layer.10.output.LayerNorm.bias', 'ernie.encoder.layer.10.output.dense.bias', 'ernie.encoder.layer.10.output.dense.weight', 'ernie.encoder.layer.3.attention.self.value.bias', 'ernie.embeddings.word_embeddings.weight', 'ernie.encoder.layer.9.attention.self.query.bias', 'ernie.encoder.layer.9.attention.self.key.weight', 'ernie.encoder.layer.11.attention.output.dense.weight', 'ernie.encoder.layer.0.attention.output.dense.bias', 'ernie.encoder.layer.0.attention.output.LayerNorm.weight', 'ernie.encoder.layer.3.attention.self.query.bias', 'ernie.encoder.layer.2.attention.self.value.weight', 'ernie.encoder.layer.6.output.LayerNorm.bias', 'ernie.encoder.layer.11.attention.output.LayerNorm.bias', 'ernie.encoder.layer.1.output.dense.weight', 'ernie.encoder.layer.3.attention.self.key.bias', 'ernie.encoder.layer.8.attention.output.LayerNorm.bias', 'ernie.encoder.layer.11.attention.self.key.weight', 'ernie.pooler.dense.bias', 'ernie.encoder.layer.3.attention.output.dense.bias', 'ernie.encoder.layer.4.output.LayerNorm.weight', 'ernie.encoder.layer.2.attention.output.dense.weight', 'ernie.encoder.layer.1.output.LayerNorm.weight', 'ernie.encoder.layer.8.attention.self.query.weight', 'ernie.encoder.layer.10.attention.self.query.weight', 'ernie.encoder.layer.0.intermediate.dense.weight', 'ernie.encoder.layer.1.attention.self.value.bias', 'ernie.encoder.layer.4.intermediate.dense.bias', 'ernie.pooler.dense.weight', 'ernie.encoder.layer.11.output.dense.bias', 'ernie.encoder.layer.0.attention.self.value.bias', 'ernie.encoder.layer.8.attention.output.dense.bias', 'ernie.encoder.layer.7.attention.self.query.bias', 'ernie.encoder.layer.0.intermediate.dense.bias', 'ernie.encoder.layer.7.attention.self.value.bias', 'ernie.encoder.layer.0.attention.output.dense.weight', 'ernie.encoder.layer.1.attention.output.LayerNorm.weight', 'ernie.encoder.layer.7.intermediate.dense.weight', 'ernie.encoder.layer.7.attention.self.key.bias', 'ernie.encoder.layer.1.intermediate.dense.weight', 'ernie.encoder.layer.8.attention.output.LayerNorm.weight', 'ernie.encoder.layer.10.intermediate.dense.weight', 'ernie.encoder.layer.7.intermediate.dense.bias', 'ernie.encoder.layer.1.output.LayerNorm.bias', 'ernie.encoder.layer.11.output.LayerNorm.bias', 'ernie.encoder.layer.9.output.dense.bias', 'ernie.encoder.layer.9.output.LayerNorm.bias', 'ernie.encoder.layer.4.attention.output.dense.weight', 'ernie.encoder.layer.3.output.LayerNorm.bias', 'ernie.encoder.layer.3.intermediate.dense.bias', 'ernie.encoder.layer.11.attention.self.value.weight', 'ernie.encoder.layer.11.intermediate.dense.bias', 'ernie.encoder.layer.7.attention.self.value.weight', 'ernie.encoder.layer.2.output.dense.weight', 'ernie.encoder.layer.1.attention.output.LayerNorm.bias', 'ernie.encoder.layer.2.attention.self.key.bias', 'ernie.encoder.layer.1.attention.output.dense.weight', 'ernie.encoder.layer.1.attention.self.query.bias', 'ernie.encoder.layer.3.attention.output.LayerNorm.bias', 'ernie.encoder.layer.9.intermediate.dense.weight', 'ernie.encoder.layer.2.attention.output.LayerNorm.bias', 'ernie.encoder.layer.11.attention.output.dense.bias', 'ernie.encoder.layer.6.output.dense.bias', 'ernie.encoder.layer.4.attention.output.dense.bias', 'ernie.encoder.layer.3.output.LayerNorm.weight', 'ernie.encoder.layer.2.attention.self.value.bias', 'ernie.encoder.layer.5.output.dense.bias', 'ernie.encoder.layer.1.output.dense.bias', 'ernie.encoder.layer.2.intermediate.dense.weight', 'ernie.encoder.layer.5.attention.self.query.weight', 'ernie.encoder.layer.11.attention.output.LayerNorm.weight', 'ernie.encoder.layer.2.output.LayerNorm.weight', 'ernie.encoder.layer.5.attention.output.LayerNorm.bias', 'ernie.encoder.layer.1.attention.self.value.weight', 'ernie.encoder.layer.3.output.dense.bias', 'ernie.encoder.layer.7.attention.output.dense.weight', 'ernie.encoder.layer.4.intermediate.dense.weight', 'ernie.encoder.layer.6.intermediate.dense.bias', 'ernie.encoder.layer.3.attention.self.key.weight', 'ernie.encoder.layer.4.attention.output.LayerNorm.weight', 'ernie.encoder.layer.6.intermediate.dense.weight', 'ernie.encoder.layer.6.attention.self.value.bias', 'ernie.encoder.layer.10.attention.self.key.bias', 'ernie.encoder.layer.0.attention.self.key.weight', 'ernie.encoder.layer.10.attention.output.LayerNorm.bias', 'ernie.encoder.layer.9.output.dense.weight', 'ernie.encoder.layer.3.attention.output.dense.weight', 'ernie.encoder.layer.11.attention.self.query.bias', 'ernie.encoder.layer.2.attention.self.key.weight', 'ernie.encoder.layer.3.attention.self.query.weight', 'ernie.encoder.layer.9.attention.output.dense.bias', 'ernie.encoder.layer.1.intermediate.dense.bias', 'ernie.encoder.layer.3.output.dense.weight', 'ernie.encoder.layer.11.intermediate.dense.weight', 'ernie.encoder.layer.10.attention.self.key.weight', 'ernie.encoder.layer.10.attention.self.value.weight', 'ernie.encoder.layer.7.output.dense.weight', 'ernie.encoder.layer.6.attention.output.LayerNorm.weight', 'ernie.encoder.layer.11.attention.self.query.weight', 'ernie.encoder.layer.2.attention.output.dense.bias', 'ernie.encoder.layer.4.attention.self.query.weight', 'ernie.encoder.layer.6.attention.output.dense.bias', 'ernie.embeddings.LayerNorm.weight', 'ernie.encoder.layer.0.attention.self.key.bias', 'ernie.encoder.layer.2.output.dense.bias', 'ernie.encoder.layer.6.output.LayerNorm.weight', 'ernie.encoder.layer.0.attention.output.LayerNorm.bias', 'ernie.encoder.layer.7.attention.self.key.weight', 'ernie.encoder.layer.4.attention.output.LayerNorm.bias', 'ernie.encoder.layer.9.attention.output.LayerNorm.weight', 'ernie.encoder.layer.9.intermediate.dense.bias', 'ernie.encoder.layer.0.attention.self.query.bias', 'ernie.encoder.layer.7.attention.output.LayerNorm.weight', 'ernie.encoder.layer.6.attention.output.dense.weight', 'ernie.encoder.layer.7.attention.self.query.weight', 'ernie.encoder.layer.11.attention.self.value.bias', 'ernie.encoder.layer.5.intermediate.dense.bias', 'ernie.encoder.layer.7.output.dense.bias', 'ernie.encoder.layer.9.attention.self.key.bias', 'ernie.encoder.layer.4.attention.self.key.weight', 'ernie.encoder.layer.8.output.LayerNorm.weight', 'ernie.encoder.layer.8.intermediate.dense.weight', 'ernie.encoder.layer.6.attention.self.query.weight', 'ernie.encoder.layer.4.output.dense.bias', 'ernie.encoder.layer.5.output.LayerNorm.bias', 'ernie.encoder.layer.9.output.LayerNorm.weight', 'ernie.encoder.layer.1.attention.output.dense.bias', 'ernie.embeddings.position_embeddings.weight', 'ernie.encoder.layer.8.output.LayerNorm.bias', 'ernie.encoder.layer.3.intermediate.dense.weight', 'ernie.encoder.layer.9.attention.output.dense.weight', 'ernie.encoder.layer.7.attention.output.dense.bias', 'ernie.encoder.layer.2.attention.output.LayerNorm.weight', 'ernie.encoder.layer.10.output.LayerNorm.weight', 'ernie.encoder.layer.4.output.dense.weight', 'ernie.embeddings.LayerNorm.bias', 'ernie.encoder.layer.3.attention.self.value.weight', 'ernie.encoder.layer.10.attention.output.dense.weight', 'ernie.encoder.layer.0.output.dense.bias', 'ernie.encoder.layer.9.attention.self.query.weight', 'ernie.encoder.layer.5.intermediate.dense.weight', 'ernie.encoder.layer.6.attention.output.LayerNorm.bias', 'ernie.encoder.layer.6.attention.self.key.weight', 'ernie.encoder.layer.4.attention.self.value.bias', 'ernie.encoder.layer.0.output.dense.weight', 'ernie.encoder.layer.8.attention.self.value.weight', 'ernie.encoder.layer.2.attention.self.query.weight', 'ernie.encoder.layer.6.attention.self.value.weight', 'ernie.encoder.layer.1.attention.self.key.bias', 'ernie.encoder.layer.1.attention.self.key.weight', 'ernie.encoder.layer.11.output.LayerNorm.weight', 'ernie.encoder.layer.5.attention.output.dense.weight', 'ernie.encoder.layer.7.output.LayerNorm.weight', 'ernie.encoder.layer.5.attention.output.LayerNorm.weight', 'ernie.encoder.layer.1.attention.self.query.weight', 'ernie.encoder.layer.5.attention.self.key.weight']\n",
            "- This IS expected if you are initializing TFBertModel from a PyTorch model trained on another task or with another architecture (e.g. initializing a TFBertForSequenceClassification model from a BertForPreTraining model).\n",
            "- This IS NOT expected if you are initializing TFBertModel from a PyTorch model that you expect to be exactly identical (e.g. initializing a TFBertForSequenceClassification model from a BertForSequenceClassification model).\n",
            "Some weights or buffers of the TF 2.0 model TFBertModel were not initialized from the PyTorch model and are newly initialized: ['embeddings.word_embeddings.weight', 'embeddings.token_type_embeddings.weight', 'embeddings.position_embeddings.weight', 'embeddings.LayerNorm.weight', 'embeddings.LayerNorm.bias', 'encoder.layer.0.attention.self.query.weight', 'encoder.layer.0.attention.self.query.bias', 'encoder.layer.0.attention.self.key.weight', 'encoder.layer.0.attention.self.key.bias', 'encoder.layer.0.attention.self.value.weight', 'encoder.layer.0.attention.self.value.bias', 'encoder.layer.0.attention.output.dense.weight', 'encoder.layer.0.attention.output.dense.bias', 'encoder.layer.0.attention.output.LayerNorm.weight', 'encoder.layer.0.attention.output.LayerNorm.bias', 'encoder.layer.0.intermediate.dense.weight', 'encoder.layer.0.intermediate.dense.bias', 'encoder.layer.0.output.dense.weight', 'encoder.layer.0.output.dense.bias', 'encoder.layer.0.output.LayerNorm.weight', 'encoder.layer.0.output.LayerNorm.bias', 'encoder.layer.1.attention.self.query.weight', 'encoder.layer.1.attention.self.query.bias', 'encoder.layer.1.attention.self.key.weight', 'encoder.layer.1.attention.self.key.bias', 'encoder.layer.1.attention.self.value.weight', 'encoder.layer.1.attention.self.value.bias', 'encoder.layer.1.attention.output.dense.weight', 'encoder.layer.1.attention.output.dense.bias', 'encoder.layer.1.attention.output.LayerNorm.weight', 'encoder.layer.1.attention.output.LayerNorm.bias', 'encoder.layer.1.intermediate.dense.weight', 'encoder.layer.1.intermediate.dense.bias', 'encoder.layer.1.output.dense.weight', 'encoder.layer.1.output.dense.bias', 'encoder.layer.1.output.LayerNorm.weight', 'encoder.layer.1.output.LayerNorm.bias', 'encoder.layer.2.attention.self.query.weight', 'encoder.layer.2.attention.self.query.bias', 'encoder.layer.2.attention.self.key.weight', 'encoder.layer.2.attention.self.key.bias', 'encoder.layer.2.attention.self.value.weight', 'encoder.layer.2.attention.self.value.bias', 'encoder.layer.2.attention.output.dense.weight', 'encoder.layer.2.attention.output.dense.bias', 'encoder.layer.2.attention.output.LayerNorm.weight', 'encoder.layer.2.attention.output.LayerNorm.bias', 'encoder.layer.2.intermediate.dense.weight', 'encoder.layer.2.intermediate.dense.bias', 'encoder.layer.2.output.dense.weight', 'encoder.layer.2.output.dense.bias', 'encoder.layer.2.output.LayerNorm.weight', 'encoder.layer.2.output.LayerNorm.bias', 'encoder.layer.3.attention.self.query.weight', 'encoder.layer.3.attention.self.query.bias', 'encoder.layer.3.attention.self.key.weight', 'encoder.layer.3.attention.self.key.bias', 'encoder.layer.3.attention.self.value.weight', 'encoder.layer.3.attention.self.value.bias', 'encoder.layer.3.attention.output.dense.weight', 'encoder.layer.3.attention.output.dense.bias', 'encoder.layer.3.attention.output.LayerNorm.weight', 'encoder.layer.3.attention.output.LayerNorm.bias', 'encoder.layer.3.intermediate.dense.weight', 'encoder.layer.3.intermediate.dense.bias', 'encoder.layer.3.output.dense.weight', 'encoder.layer.3.output.dense.bias', 'encoder.layer.3.output.LayerNorm.weight', 'encoder.layer.3.output.LayerNorm.bias', 'encoder.layer.4.attention.self.query.weight', 'encoder.layer.4.attention.self.query.bias', 'encoder.layer.4.attention.self.key.weight', 'encoder.layer.4.attention.self.key.bias', 'encoder.layer.4.attention.self.value.weight', 'encoder.layer.4.attention.self.value.bias', 'encoder.layer.4.attention.output.dense.weight', 'encoder.layer.4.attention.output.dense.bias', 'encoder.layer.4.attention.output.LayerNorm.weight', 'encoder.layer.4.attention.output.LayerNorm.bias', 'encoder.layer.4.intermediate.dense.weight', 'encoder.layer.4.intermediate.dense.bias', 'encoder.layer.4.output.dense.weight', 'encoder.layer.4.output.dense.bias', 'encoder.layer.4.output.LayerNorm.weight', 'encoder.layer.4.output.LayerNorm.bias', 'encoder.layer.5.attention.self.query.weight', 'encoder.layer.5.attention.self.query.bias', 'encoder.layer.5.attention.self.key.weight', 'encoder.layer.5.attention.self.key.bias', 'encoder.layer.5.attention.self.value.weight', 'encoder.layer.5.attention.self.value.bias', 'encoder.layer.5.attention.output.dense.weight', 'encoder.layer.5.attention.output.dense.bias', 'encoder.layer.5.attention.output.LayerNorm.weight', 'encoder.layer.5.attention.output.LayerNorm.bias', 'encoder.layer.5.intermediate.dense.weight', 'encoder.layer.5.intermediate.dense.bias', 'encoder.layer.5.output.dense.weight', 'encoder.layer.5.output.dense.bias', 'encoder.layer.5.output.LayerNorm.weight', 'encoder.layer.5.output.LayerNorm.bias', 'encoder.layer.6.attention.self.query.weight', 'encoder.layer.6.attention.self.query.bias', 'encoder.layer.6.attention.self.key.weight', 'encoder.layer.6.attention.self.key.bias', 'encoder.layer.6.attention.self.value.weight', 'encoder.layer.6.attention.self.value.bias', 'encoder.layer.6.attention.output.dense.weight', 'encoder.layer.6.attention.output.dense.bias', 'encoder.layer.6.attention.output.LayerNorm.weight', 'encoder.layer.6.attention.output.LayerNorm.bias', 'encoder.layer.6.intermediate.dense.weight', 'encoder.layer.6.intermediate.dense.bias', 'encoder.layer.6.output.dense.weight', 'encoder.layer.6.output.dense.bias', 'encoder.layer.6.output.LayerNorm.weight', 'encoder.layer.6.output.LayerNorm.bias', 'encoder.layer.7.attention.self.query.weight', 'encoder.layer.7.attention.self.query.bias', 'encoder.layer.7.attention.self.key.weight', 'encoder.layer.7.attention.self.key.bias', 'encoder.layer.7.attention.self.value.weight', 'encoder.layer.7.attention.self.value.bias', 'encoder.layer.7.attention.output.dense.weight', 'encoder.layer.7.attention.output.dense.bias', 'encoder.layer.7.attention.output.LayerNorm.weight', 'encoder.layer.7.attention.output.LayerNorm.bias', 'encoder.layer.7.intermediate.dense.weight', 'encoder.layer.7.intermediate.dense.bias', 'encoder.layer.7.output.dense.weight', 'encoder.layer.7.output.dense.bias', 'encoder.layer.7.output.LayerNorm.weight', 'encoder.layer.7.output.LayerNorm.bias', 'encoder.layer.8.attention.self.query.weight', 'encoder.layer.8.attention.self.query.bias', 'encoder.layer.8.attention.self.key.weight', 'encoder.layer.8.attention.self.key.bias', 'encoder.layer.8.attention.self.value.weight', 'encoder.layer.8.attention.self.value.bias', 'encoder.layer.8.attention.output.dense.weight', 'encoder.layer.8.attention.output.dense.bias', 'encoder.layer.8.attention.output.LayerNorm.weight', 'encoder.layer.8.attention.output.LayerNorm.bias', 'encoder.layer.8.intermediate.dense.weight', 'encoder.layer.8.intermediate.dense.bias', 'encoder.layer.8.output.dense.weight', 'encoder.layer.8.output.dense.bias', 'encoder.layer.8.output.LayerNorm.weight', 'encoder.layer.8.output.LayerNorm.bias', 'encoder.layer.9.attention.self.query.weight', 'encoder.layer.9.attention.self.query.bias', 'encoder.layer.9.attention.self.key.weight', 'encoder.layer.9.attention.self.key.bias', 'encoder.layer.9.attention.self.value.weight', 'encoder.layer.9.attention.self.value.bias', 'encoder.layer.9.attention.output.dense.weight', 'encoder.layer.9.attention.output.dense.bias', 'encoder.layer.9.attention.output.LayerNorm.weight', 'encoder.layer.9.attention.output.LayerNorm.bias', 'encoder.layer.9.intermediate.dense.weight', 'encoder.layer.9.intermediate.dense.bias', 'encoder.layer.9.output.dense.weight', 'encoder.layer.9.output.dense.bias', 'encoder.layer.9.output.LayerNorm.weight', 'encoder.layer.9.output.LayerNorm.bias', 'encoder.layer.10.attention.self.query.weight', 'encoder.layer.10.attention.self.query.bias', 'encoder.layer.10.attention.self.key.weight', 'encoder.layer.10.attention.self.key.bias', 'encoder.layer.10.attention.self.value.weight', 'encoder.layer.10.attention.self.value.bias', 'encoder.layer.10.attention.output.dense.weight', 'encoder.layer.10.attention.output.dense.bias', 'encoder.layer.10.attention.output.LayerNorm.weight', 'encoder.layer.10.attention.output.LayerNorm.bias', 'encoder.layer.10.intermediate.dense.weight', 'encoder.layer.10.intermediate.dense.bias', 'encoder.layer.10.output.dense.weight', 'encoder.layer.10.output.dense.bias', 'encoder.layer.10.output.LayerNorm.weight', 'encoder.layer.10.output.LayerNorm.bias', 'encoder.layer.11.attention.self.query.weight', 'encoder.layer.11.attention.self.query.bias', 'encoder.layer.11.attention.self.key.weight', 'encoder.layer.11.attention.self.key.bias', 'encoder.layer.11.attention.self.value.weight', 'encoder.layer.11.attention.self.value.bias', 'encoder.layer.11.attention.output.dense.weight', 'encoder.layer.11.attention.output.dense.bias', 'encoder.layer.11.attention.output.LayerNorm.weight', 'encoder.layer.11.attention.output.LayerNorm.bias', 'encoder.layer.11.intermediate.dense.weight', 'encoder.layer.11.intermediate.dense.bias', 'encoder.layer.11.output.dense.weight', 'encoder.layer.11.output.dense.bias', 'encoder.layer.11.output.LayerNorm.weight', 'encoder.layer.11.output.LayerNorm.bias', 'pooler.dense.weight', 'pooler.dense.bias']\n",
            "You should probably TRAIN this model on a down-stream task to be able to use it for predictions and inference.\n"
          ]
        }
      ]
    },
    {
      "cell_type": "code",
      "source": [
        "import tensorflow as tf\n",
        "from keras.models import Model, load_model\n",
        "from keras.layers import Dense, GlobalAveragePooling1D, BatchNormalization, Dropout\n",
        "from keras.optimizers import Adam\n",
        "from keras.losses import SparseCategoricalCrossentropy\n",
        "from keras.metrics import SparseCategoricalAccuracy\n",
        "from keras.callbacks import ModelCheckpoint"
      ],
      "metadata": {
        "id": "3CoLIzjh9SqR"
      },
      "execution_count": null,
      "outputs": []
    },
    {
      "cell_type": "code",
      "source": [
        "shape_input = train_inputs_ids.shape[1]\n",
        "\n",
        "input_ids = tf.keras.layers.Input(shape=(shape_input,), dtype=tf.int32, name=\"input_ids\")\n",
        "attention_mask = tf.keras.layers.Input(shape=(shape_input,), dtype=tf.int32, name=\"attention_mask\")\n",
        "token_type = tf.keras.layers.Input(shape=(shape_input,), dtype=tf.int32, name=\"token_type_ids\")\n",
        "outputs = ernie_model([input_ids, attention_mask, token_type])\n",
        "outputs = outputs.last_hidden_state\n",
        "outputs = GlobalAveragePooling1D()(outputs)\n",
        "outputs = BatchNormalization()(outputs)\n",
        "outputs = Dense(64, activation=\"relu\")(outputs)\n",
        "outputs = Dense(32, activation=\"relu\")(outputs)\n",
        "outputs = Dense(6, activation='softmax')(outputs)\n",
        "\n",
        "model = Model(inputs=[input_ids, attention_mask,token_type], outputs=outputs)\n",
        "\n",
        "opt = Adam(learning_rate=1e-5)\n",
        "model.compile(optimizer=opt,\n",
        "              loss=SparseCategoricalCrossentropy(),\n",
        "              metrics=[SparseCategoricalAccuracy()])\n",
        "model.summary()"
      ],
      "metadata": {
        "colab": {
          "base_uri": "https://localhost:8080/"
        },
        "id": "XteAw_Ns8_NM",
        "outputId": "d28f1c62-b7cb-4925-9ebe-72f0476f3c26"
      },
      "execution_count": null,
      "outputs": [
        {
          "output_type": "stream",
          "name": "stdout",
          "text": [
            "Model: \"model_1\"\n",
            "__________________________________________________________________________________________________\n",
            " Layer (type)                Output Shape                 Param #   Connected to                  \n",
            "==================================================================================================\n",
            " input_ids (InputLayer)      [(None, 128)]                0         []                            \n",
            "                                                                                                  \n",
            " attention_mask (InputLayer  [(None, 128)]                0         []                            \n",
            " )                                                                                                \n",
            "                                                                                                  \n",
            " token_type_ids (InputLayer  [(None, 128)]                0         []                            \n",
            " )                                                                                                \n",
            "                                                                                                  \n",
            " tf_bert_model (TFBertModel  TFBaseModelOutputWithPooli   1094837   ['input_ids[0][0]',           \n",
            " )                           ngAndCrossAttentions(last_   76         'attention_mask[0][0]',      \n",
            "                             hidden_state=(None, 128, 7              'token_type_ids[0][0]']      \n",
            "                             68),                                                                 \n",
            "                              pooler_output=(None, 768)                                           \n",
            "                             , past_key_values=None, hi                                           \n",
            "                             dden_states=None, attentio                                           \n",
            "                             ns=None, cross_attentions=                                           \n",
            "                             None)                                                                \n",
            "                                                                                                  \n",
            " global_average_pooling1d_1  (None, 768)                  0         ['tf_bert_model[1][0]']       \n",
            "  (GlobalAveragePooling1D)                                                                        \n",
            "                                                                                                  \n",
            " batch_normalization_1 (Bat  (None, 768)                  3072      ['global_average_pooling1d_1[0\n",
            " chNormalization)                                                   ][0]']                        \n",
            "                                                                                                  \n",
            " dense_2 (Dense)             (None, 64)                   49216     ['batch_normalization_1[0][0]'\n",
            "                                                                    ]                             \n",
            "                                                                                                  \n",
            " dense_3 (Dense)             (None, 32)                   2080      ['dense_2[0][0]']             \n",
            "                                                                                                  \n",
            " dense_4 (Dense)             (None, 6)                    198       ['dense_3[0][0]']             \n",
            "                                                                                                  \n",
            "==================================================================================================\n",
            "Total params: 109538342 (417.86 MB)\n",
            "Trainable params: 109536806 (417.85 MB)\n",
            "Non-trainable params: 1536 (6.00 KB)\n",
            "__________________________________________________________________________________________________\n"
          ]
        }
      ]
    },
    {
      "cell_type": "code",
      "source": [
        "checkpoint = ModelCheckpoint(\n",
        "    \"nghuyong/ernie-2.0-base-en\",\n",
        "    verbose = 1,\n",
        "    save_best_only = True,\n",
        "    monitor = \"val_loss\"\n",
        ")\n",
        "\n",
        "reduce_lr = tf.keras.callbacks.ReduceLROnPlateau(monitor='val_loss', factor=0.5, patience=5, min_lr=1e-4, verbose=1)"
      ],
      "metadata": {
        "id": "OBsxKCYxDxDS"
      },
      "execution_count": null,
      "outputs": []
    },
    {
      "cell_type": "code",
      "source": [
        "history = model.fit([train_inputs_ids, train_inputs_mask, train_inputs_token],\n",
        "                    train_labels,\n",
        "                    epochs=5,\n",
        "                    batch_size = 64,\n",
        "                    validation_data=([val_inputs_ids, val_inputs_mask, val_inputs_token], val_labels),\n",
        "                    callbacks = [reduce_lr,checkpoint])"
      ],
      "metadata": {
        "colab": {
          "base_uri": "https://localhost:8080/"
        },
        "id": "vG5jVudyEyS8",
        "outputId": "1edbe908-52eb-4b0f-f11a-07df64ba230d"
      },
      "execution_count": null,
      "outputs": [
        {
          "output_type": "stream",
          "name": "stdout",
          "text": [
            "Epoch 1/5\n"
          ]
        },
        {
          "output_type": "stream",
          "name": "stderr",
          "text": [
            "WARNING:tensorflow:Gradients do not exist for variables ['tf_bert_model/bert/pooler/dense/kernel:0', 'tf_bert_model/bert/pooler/dense/bias:0'] when minimizing the loss. If you're using `model.compile()`, did you forget to provide a `loss` argument?\n",
            "WARNING:tensorflow:Gradients do not exist for variables ['tf_bert_model/bert/pooler/dense/kernel:0', 'tf_bert_model/bert/pooler/dense/bias:0'] when minimizing the loss. If you're using `model.compile()`, did you forget to provide a `loss` argument?\n",
            "WARNING:tensorflow:Gradients do not exist for variables ['tf_bert_model/bert/pooler/dense/kernel:0', 'tf_bert_model/bert/pooler/dense/bias:0'] when minimizing the loss. If you're using `model.compile()`, did you forget to provide a `loss` argument?\n",
            "WARNING:tensorflow:Gradients do not exist for variables ['tf_bert_model/bert/pooler/dense/kernel:0', 'tf_bert_model/bert/pooler/dense/bias:0'] when minimizing the loss. If you're using `model.compile()`, did you forget to provide a `loss` argument?\n"
          ]
        },
        {
          "output_type": "stream",
          "name": "stdout",
          "text": [
            "219/219 [==============================] - ETA: 0s - loss: 1.2641 - sparse_categorical_accuracy: 0.5239\n",
            "Epoch 1: val_loss improved from inf to 1.16086, saving model to nghuyong/ernie-2.0-base-en\n",
            "219/219 [==============================] - 472s 2s/step - loss: 1.2641 - sparse_categorical_accuracy: 0.5239 - val_loss: 1.1609 - val_sparse_categorical_accuracy: 0.5343 - lr: 1.0000e-05\n",
            "Epoch 2/5\n",
            "219/219 [==============================] - ETA: 0s - loss: 0.8059 - sparse_categorical_accuracy: 0.7071\n",
            "Epoch 2: val_loss improved from 1.16086 to 1.11767, saving model to nghuyong/ernie-2.0-base-en\n",
            "219/219 [==============================] - 427s 2s/step - loss: 0.8059 - sparse_categorical_accuracy: 0.7071 - val_loss: 1.1177 - val_sparse_categorical_accuracy: 0.6487 - lr: 1.0000e-05\n",
            "Epoch 3/5\n",
            "219/219 [==============================] - ETA: 0s - loss: 0.5588 - sparse_categorical_accuracy: 0.8034\n",
            "Epoch 3: val_loss improved from 1.11767 to 0.60535, saving model to nghuyong/ernie-2.0-base-en\n",
            "219/219 [==============================] - 428s 2s/step - loss: 0.5588 - sparse_categorical_accuracy: 0.8034 - val_loss: 0.6053 - val_sparse_categorical_accuracy: 0.7923 - lr: 1.0000e-05\n",
            "Epoch 4/5\n",
            "219/219 [==============================] - ETA: 0s - loss: 0.4180 - sparse_categorical_accuracy: 0.8520\n",
            "Epoch 4: val_loss did not improve from 0.60535\n",
            "219/219 [==============================] - 355s 2s/step - loss: 0.4180 - sparse_categorical_accuracy: 0.8520 - val_loss: 1.3895 - val_sparse_categorical_accuracy: 0.6263 - lr: 1.0000e-05\n",
            "Epoch 5/5\n",
            "219/219 [==============================] - ETA: 0s - loss: 0.3169 - sparse_categorical_accuracy: 0.8862\n",
            "Epoch 5: val_loss did not improve from 0.60535\n",
            "219/219 [==============================] - 361s 2s/step - loss: 0.3169 - sparse_categorical_accuracy: 0.8862 - val_loss: 0.6456 - val_sparse_categorical_accuracy: 0.7970 - lr: 1.0000e-05\n"
          ]
        }
      ]
    },
    {
      "cell_type": "code",
      "source": [
        "plt.plot(history.history['loss'])\n",
        "plt.plot(history.history['val_loss'])\n",
        "plt.title('model loss')\n",
        "plt.ylabel('loss')\n",
        "plt.xlabel('epoch')\n",
        "plt.legend(['train', 'val'], loc='upper left')\n",
        "plt.show()"
      ],
      "metadata": {
        "id": "ydObNMSCUplk",
        "outputId": "846e8df3-8812-4aa4-b825-3b2b0a3067b0",
        "colab": {
          "base_uri": "https://localhost:8080/",
          "height": 472
        }
      },
      "execution_count": null,
      "outputs": [
        {
          "output_type": "display_data",
          "data": {
            "text/plain": [
              "<Figure size 640x480 with 1 Axes>"
            ],
            "image/png": "[encoded data removed]"
          },
          "metadata": {}
        }
      ]
    },
    {
      "cell_type": "markdown",
      "source": [
        "# 2. d.\n",
        "Performance analysis based on testing dataset (find precision, recall, F1-Score and accuracy) of the model and analysis the result."
      ],
      "metadata": {
        "id": "uRg3j_2oQZfV"
      }
    },
    {
      "cell_type": "code",
      "source": [
        "custom_objects = {'TFBertModel': TFBertModel}\n",
        "\n",
        "best_model = load_model(\"nghuyong/ernie-2.0-base-en\", custom_objects=custom_objects)\n",
        "\n",
        "predict_prob = best_model.predict([test_inputs_ids, test_inputs_mask, test_inputs_token])\n",
        "prediction = np.argmax(predict_prob, axis = 1)"
      ],
      "metadata": {
        "colab": {
          "base_uri": "https://localhost:8080/"
        },
        "id": "l7_d01zcHqi4",
        "outputId": "4ee9a62e-ec00-4920-f8f6-36405403a291"
      },
      "execution_count": null,
      "outputs": [
        {
          "output_type": "stream",
          "name": "stdout",
          "text": [
            "94/94 [==============================] - 27s 256ms/step\n"
          ]
        }
      ]
    },
    {
      "cell_type": "code",
      "source": [
        "from sklearn.metrics import f1_score, accuracy_score, recall_score, precision_score, classification_report"
      ],
      "metadata": {
        "id": "HN1QRI70OvuW"
      },
      "execution_count": null,
      "outputs": []
    },
    {
      "cell_type": "code",
      "source": [
        "print(classification_report(Y_test, prediction))"
      ],
      "metadata": {
        "colab": {
          "base_uri": "https://localhost:8080/"
        },
        "id": "AWECAqadH2RL",
        "outputId": "d6e29f98-9a55-4667-8ce6-545b4c37c1a7"
      },
      "execution_count": null,
      "outputs": [
        {
          "output_type": "stream",
          "name": "stdout",
          "text": [
            "              precision    recall  f1-score   support\n",
            "\n",
            "           0       0.78      0.89      0.83       851\n",
            "           1       0.79      0.80      0.79       430\n",
            "           2       0.77      0.62      0.69       254\n",
            "           3       0.84      0.35      0.49       109\n",
            "           4       0.78      0.67      0.72       343\n",
            "           5       0.84      0.86      0.85      1013\n",
            "\n",
            "    accuracy                           0.80      3000\n",
            "   macro avg       0.80      0.70      0.73      3000\n",
            "weighted avg       0.80      0.80      0.80      3000\n",
            "\n"
          ]
        }
      ]
    },
    {
      "cell_type": "code",
      "source": [
        "print(f\"Precision: {precision_score(Y_test, prediction, average='macro')}\")\n",
        "print(f\"Recall: {recall_score(Y_test, prediction,average='macro')}\")\n",
        "print(f\"f1: {f1_score(Y_test, prediction,average='macro')}\")\n",
        "print(f\"Accuracy: {accuracy_score(Y_test,prediction)}\")"
      ],
      "metadata": {
        "colab": {
          "base_uri": "https://localhost:8080/"
        },
        "id": "XbKcjLLVIPMP",
        "outputId": "d848237d-eb29-4826-91f0-8287a328dd53"
      },
      "execution_count": null,
      "outputs": [
        {
          "output_type": "stream",
          "name": "stdout",
          "text": [
            "Precision: 0.8002402280921946\n",
            "Recall: 0.7000298661414143\n",
            "f1: 0.7303254966032905\n",
            "Accuracy: 0.8016666666666666\n"
          ]
        }
      ]
    },
    {
      "cell_type": "markdown",
      "source": [
        "- Precision: 0,8002402280921946.\n",
        "Presisi adalah rasio pengamatan positif yang diprediksi dengan benar terhadap total prediksi positif.\n",
        "Dalam kasus ini, sekitar 80,02% kasus yang diprediksi positif ternyata positif.\n",
        "- Recall: 0,7000298661414143.\n",
        "Recall adalah rasio observasi positif yang diprediksi dengan benar terhadap seluruh observasi di kelas sebenarnya.\n",
        "Di sini, sekitar 70,00% kasus positif aktual diprediksi dengan tepat oleh model.\n",
        "- F1: 0,7303254966032905.\n",
        "F1 adalah rata-rata harmonik antara presisi dan perolehan. F1 memberikan keseimbangan antara presisi dan perolehan. Dalam hal ini skor F1 sekitar 73,03%.\n",
        "- Accuracy: 0,8016666666666666.\n",
        "Akurasi adalah rasio observasi yang diprediksi dengan benar terhadap total observasi.Model ini memiliki akurasi sekitar 80,17% pada kumpulan data.\n",
        "\n",
        "Referensi : Powers, D. M. (2020). Evaluation: from precision, recall and F-measure to ROC, informedness, markedness and correlation. arXiv preprint arXiv:2010.16061. Diakses dari : https://arxiv.org/abs/2010.16061"
      ],
      "metadata": {
        "id": "_6U1oXWOErEa"
      }
    }
  ]
}